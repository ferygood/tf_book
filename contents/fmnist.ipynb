{
 "cells": [
  {
   "cell_type": "markdown",
   "metadata": {},
   "source": [
    "# Fashion MNIST 基礎分類  \n",
    "Fashion MNIST 有 10 個種類的圖，總共 70k 的圖像，圖像的尺寸為 28x2，每個分類大約有 7k 張，這樣就足夠訓練一個神經網路了  \n",
    "用數字 09 代表短靴，這樣可以避免誤差和容易電腦計算  \n",
    "* 本篇教學適用於你想要做小 size 的影像識別神經網路\n",
    "* 缺陷是圖片都是 28 x 28 灰階，且圖片都在正中間，較不符合實際應用"
   ]
  },
  {
   "cell_type": "code",
   "execution_count": null,
   "metadata": {},
   "outputs": [],
   "source": [
    "import tensorflow as tf\n",
    "from tensorflow import keras\n",
    "\n",
    "fashion_mnist = keras.datasets.fashion_mnist\n",
    "(train_images, train_labels), (test_images, test_labels) = fashion_mnist.load_data()"
   ]
  },
  {
   "cell_type": "code",
   "execution_count": null,
   "metadata": {},
   "outputs": [],
   "source": [
    "# 瀏覽數據\n",
    "print(train_images.shape)\n",
    "print(len(train_labels))\n",
    "print(test_images.shape)\n",
    "print(len(test_labels))"
   ]
  },
  {
   "cell_type": "markdown",
   "metadata": {},
   "source": [
    "概述模型層  \n",
    "1. 28x28 先拉成線性的輸入  \n",
    "2. 使用 relu 來分析 128 筆函數的輸出結果，是不是每個函數都能夠輸出正確的答案，以這個例子應該是要 09  \n",
    "3. 用 softmax 選取最高的類別，我們有 10 個類別，所以如果圖片是短靴，理論上09的機率要是最高，所以 softmax 函數下，09應該最接近 1"
   ]
  },
  {
   "cell_type": "code",
   "execution_count": null,
   "metadata": {},
   "outputs": [],
   "source": [
    "model = keras.Sequential([\n",
    "    keras.layers.Flatten(input_shape=(28, 28)),\n",
    "    keras.layers.Dense(128, activation=tf.nn.relu),\n",
    "    keras.layers.Dense(10, activation=tf.nn.softmax)\n",
    "])\n",
    "\n",
    "model.compile(\n",
    "    optimizer='adam',\n",
    "    loss=tf.keras.losses.SparseCategoricalCrossentropy(from_logits=True),\n",
    "    metrics=['accuracy']\n",
    ")"
   ]
  },
  {
   "cell_type": "code",
   "execution_count": null,
   "metadata": {},
   "outputs": [],
   "source": [
    "model.fit(train_images, train_labels, epochs=10, verbose=0)\n",
    "\n",
    "test_loss, test_acc = model.evaluate(test_images, test_labels)\n",
    "\n",
    "print(test_loss)\n",
    "print(test_acc)"
   ]
  },
  {
   "cell_type": "code",
   "execution_count": null,
   "metadata": {},
   "outputs": [],
   "source": [
    "# 如果想要測試\n",
    "# predictions = model.predict(my_images)"
   ]
  },
  {
   "cell_type": "markdown",
   "metadata": {},
   "source": [
    "參考資料  \n",
    "[TensorFlow YouTube 影片](https://www.youtube.com/watch?v=ifj5bAzrzMw&list=PLQY2H8rRoyvwr-3IlvJXA1JyOlpcbIGa1&index=2&ab_channel=TensorFlow)  \n",
    "[官方文件](https://www.tensorflow.org/tutorials/keras/classification)\n"
   ]
  }
 ],
 "metadata": {
  "interpreter": {
   "hash": "88c3793f7c1b826c0c257471c3c83481c5eb6bd18aba1367edb6b19ce1e495c7"
  },
  "kernelspec": {
   "display_name": "Python 3.9.12 ('tensorflow')",
   "language": "python",
   "name": "python3"
  },
  "language_info": {
   "name": "python",
   "version": "3.9.12"
  },
  "orig_nbformat": 4
 },
 "nbformat": 4,
 "nbformat_minor": 2
}

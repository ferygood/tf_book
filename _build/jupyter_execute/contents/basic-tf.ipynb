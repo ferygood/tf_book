{
 "cells": [
  {
   "cell_type": "markdown",
   "metadata": {},
   "source": [
    "# Basic TensorFlow examples  \n",
    "Here we show the basic tensorflow examples:  \n",
    "1. [單顆神經元範例 One-neuron example](one-neuron.ipynb)\n",
    "2. [Fashion MNIST 基礎分類](fmnist.ipynb)  \n",
    "3. [IMDB 評論分類](imdb.ipynb)"
   ]
  }
 ],
 "metadata": {
  "language_info": {
   "codemirror_mode": {
    "name": "ipython",
    "version": 3
   },
   "file_extension": ".py",
   "mimetype": "text/x-python",
   "name": "python",
   "nbconvert_exporter": "python",
   "pygments_lexer": "ipython3",
   "version": "3.9.12"
  }
 },
 "nbformat": 4,
 "nbformat_minor": 2
}
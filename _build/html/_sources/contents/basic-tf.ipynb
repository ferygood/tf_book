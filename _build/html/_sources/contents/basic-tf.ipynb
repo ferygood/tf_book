{
 "cells": [
  {
   "cell_type": "markdown",
   "metadata": {},
   "source": [
    "# Basic TensorFlow examples  \n",
    "Here we show the basic tensorflow examples:  \n",
    "1. [單顆神經元範例 One-neuron example](one-neuron.ipynb)\n",
    "2. [Fashion MNIST 基礎分類](fmnist.ipynb)  \n",
    "3. [IMDB 評論分類](imdb.ipynb)"
   ]
  }
 ],
 "metadata": {
  "language_info": {
   "name": "python"
  },
  "orig_nbformat": 4
 },
 "nbformat": 4,
 "nbformat_minor": 2
}
